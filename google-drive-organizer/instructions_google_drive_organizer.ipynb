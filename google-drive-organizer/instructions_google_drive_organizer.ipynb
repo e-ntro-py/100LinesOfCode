{
  "nbformat": 4,
  "nbformat_minor": 0,
  "metadata": {
    "colab": {
      "provenance": []
    },
    "kernelspec": {
      "name": "python3",
      "display_name": "Python 3"
    },
    "language_info": {
      "name": "python"
    }
  },
  "cells": [
    {
      "cell_type": "markdown",
      "source": [
        "# 📁 How to Use This Script\n",
        "To run this project, the most practical way is to copy the entire Python script into a code cell in [Google Colab](https://colab.research.google.com/).\n",
        "\n",
        "This allows you to execute the script interactively and organize your Google Drive files directly from the notebook.\n",
        "\n",
        "> ✅ Upon running the script, make sure to **authorize access** to your Google Drive.\n",
        "\n",
        "---\n",
        "\n",
        "# 📁 Como Usar Este Script\n",
        "Para utilizar este projeto, a forma mais prática é copiar todo o código Python para uma única célula de código no [Google Colab](https://colab.research.google.com/).\n",
        "\n",
        "Assim, você poderá executar o script de forma interativa e organizar seus arquivos do Google Drive diretamente pelo notebook.\n",
        "\n",
        "> ✅ Ao executar o script, certifique-se de **autorizar o acesso** ao seu Google Drive."
      ],
      "metadata": {
        "id": "sy5mm2OGZ14j"
      }
    },
    {
      "cell_type": "markdown",
      "source": [
        "---"
      ],
      "metadata": {
        "id": "MbJ61faKb7X4"
      }
    },
    {
      "cell_type": "markdown",
      "source": [
        "## 🔐 Step 1 - Mounting Google Drive\n",
        "\n",
        "Run the corresponding code to authorize Colab to access your Google Drive.\n",
        "\n",
        "Once mounted, your files will be accessible at:\n",
        "`/content/drive/MyDrive/`\n",
        "\n",
        "---\n",
        "\n",
        "## 🔐 Etapa 1 - Montagem do Google Drive\n",
        "\n",
        "Execute o código correspondente para autorizar o acesso do Colab ao seu Google Drive.\n",
        "\n",
        "Após a montagem, seus arquivos estarão acessíveis pelo caminho:\n",
        "`/content/drive/MyDrive/`\n",
        "\n",
        "> ⚠️ Mesmo com o idioma da conta em português, o caminho técnico utilizado pelo Colab é `\"MyDrive\"`.\n",
        "\n"
      ],
      "metadata": {
        "id": "oJRp8vO_RHpx"
      }
    },
    {
      "cell_type": "markdown",
      "source": [
        "## 🔧 Step 2 - File Handling Functions\n",
        "\n",
        "Here we define helper functions that will be used in the file organization process:\n",
        "\n",
        "- Classify files by type;\n",
        "- Classify files by size (small, medium, large, huge);\n",
        "- Get the date of last modification;\n",
        "- Dynamically create folders based on the chosen criteria;\n",
        "- Move files to the appropriate folders.\n",
        "\n",
        "These functions are used by the main organization functions, which are described in the next step.\n",
        "\n",
        "---\n",
        "\n",
        "## 🔧 Etapa 2 - Funções para tratar arquivos\n",
        "\n",
        "Aqui definimos funções auxiliares que serão usadas no processo de organização:\n",
        "\n",
        "- Classificar arquivos por tipo;\n",
        "- Classificar arquivos por tamanho (pequenos, médios, grandes, enormes);\n",
        "- Obter a data da última modificação;\n",
        "- Criar pastas dinamicamente conforme os critérios escolhidos;\n",
        "- Mover os arquivos para as pastas corretas.\n",
        "\n",
        "Essas funções são utilizadas pelas funções principais de organização, descritas na próxima etapa.\n"
      ],
      "metadata": {
        "id": "3FlND62oRJyp"
      }
    },
    {
      "cell_type": "markdown",
      "source": [
        "## 🧠 Step 3 - Main Organization Functions (by separate criteria)\n",
        "\n",
        "The main organization functions are separated by criteria, allowing greater control and clarity in the process:\n",
        "\n",
        "- `organize_by_type()`: groups files into categories such as Images, Documents, Videos, Music, and Others, based on the file type identified by the name.\n",
        "\n",
        "- `organize_by_size()`: groups files into folders by size range: Small (<1MB), Medium, Large, Huge (>100MB).\n",
        "\n",
        "- `organize_by_date()`: creates subfolders in the format YYYY-MM based on the last modification date of each file.\n",
        "\n",
        "- `organize_by_keyword()`: groups files based on user-defined keywords found in the file names (e.g., \"exam\", \"list\", \"assignment\").\n",
        "\n",
        "> ⚠️ Although you can technically run multiple organization functions in sequence, it's not recommended. Each function moves files to a different structure, which may interfere with the previous organization.\n",
        "\n",
        "> If you want to apply more than one criterion, it’s best to do it manually and in a planned way, or use a custom function that combines multiple criteria hierarchically (e.g., type → date).\n",
        "\n",
        "> 📂 You can and should choose a specific folder (and its subfolders) to organize. You don’t need to apply the function to the root of your Drive (`/MyDrive`), unless you want to reorganize everything. All files within the selected folder and its subfolders will be reorganized based on the chosen criterion.\n",
        "\n",
        "---\n",
        "\n",
        "## 🧠 Etapa 3 - Funções principais de organização (por critério separado)\n",
        "\n",
        "As funções principais de organização estão separadas por critério, permitindo maior controle e clareza no processo:\n",
        "\n",
        "- `organizar_por_tipo()`: agrupa arquivos em categorias como Imagens, Documentos, Vídeos, Músicas e Outros, com base no tipo de arquivo identificado pelo nome.\n",
        "\n",
        "- `organizar_por_tamanho()`: agrupa arquivos em pastas por faixa de tamanho: Pequenos (<1MB), Médios, Grandes, Gigantes (>100MB).\n",
        "\n",
        "- `organizar_por_data()`: cria subpastas no formato AAAA-MM com base na data da última modificação de cada arquivo.\n",
        "\n",
        "- `organizar_por_palavra_chave()`: agrupa arquivos com base em palavras-chave definidas pelo usuário no nome dos arquivos (ex: \"prova\", \"lista\", \"trabalho\").\n",
        "\n",
        "> ⚠️ Embora seja tecnicamente possível executar várias funções de organização em sequência, isso não é recomendado. Cada função reorganiza os arquivos em uma nova estrutura, o que pode atrapalhar uma organização anterior.\n",
        "\n",
        "> Se quiser aplicar mais de um critério, o ideal é fazer isso de forma planejada e manual, ou utilizar uma função personalizada que combine os critérios hierarquicamente (ex: tipo → data).\n",
        "\n",
        "> 📂 Você pode (e deve) escolher uma pasta específica para organizar (e suas subpastas). Não é necessário aplicar as funções na raiz do seu Drive (`/MyDrive`), a menos que deseje reorganizar absolutamente tudo. Todos os arquivos da pasta selecionada e suas subpastas serão reorganizados com base no critério escolhido.\n"
      ],
      "metadata": {
        "id": "lWdS6CKARNu9"
      }
    },
    {
      "cell_type": "markdown",
      "source": [
        "## ▶️ Step 4 - Execute\n",
        "\n",
        "Choose one or more organization functions to run and organize the files inside a specific folder in your Google Drive.\n",
        "\n",
        "You can use, for example:\n",
        "\n",
        "- `organize_by_type(\"/content/drive/MyDrive/Projects\")`\n",
        "\n",
        "- `organize_by_size(\"/content/drive/MyDrive/Downloads\")`\n",
        "\n",
        "- `organize_by_date(\"/content/drive/MyDrive/Tasks\")`\n",
        "\n",
        "- `organize_by_keyword(\"/content/drive/MyDrive/Backup\", [\"exam\", \"list\", \"assignment\"])`\n",
        "\n",
        "> ✅ Tip: replace the path `/content/drive/MyDrive` with the specific folder you want to organize. This keeps the process safer and more controlled, without reorganizing everything.\n",
        "\n",
        "---\n",
        "\n",
        "## ▶️ Etapa 4 - Executar\n",
        "\n",
        "Escolha uma ou mais funções de organização para executar e organizar os arquivos dentro de uma pasta específica do seu Google Drive.\n",
        "\n",
        "Você pode usar, por exemplo:\n",
        "\n",
        "- `organizar_por_tipo(\"/content/drive/MyDrive/Trabalhos\")`\n",
        "\n",
        "- `organizar_por_tamanho(\"/content/drive/MyDrive/Downloads\")`\n",
        "\n",
        "- `organizar_por_data(\"/content/drive/MyDrive/Projetos\")`\n",
        "\n",
        "- `organizar_por_palavra_chave(\"/content/drive/MyDrive/Backup\", [\"prova\", \"lista\", \"trabalho\"])`\n",
        "\n",
        "> ✅ Dica: substitua o caminho `/content/drive/MyDrive` pela pasta que você quer organizar. Isso torna o processo mais seguro e controlado, sem reorganizar arquivos desnecessários.\n"
      ],
      "metadata": {
        "id": "XZ25izRIRRvW"
      }
    }
  ]
}